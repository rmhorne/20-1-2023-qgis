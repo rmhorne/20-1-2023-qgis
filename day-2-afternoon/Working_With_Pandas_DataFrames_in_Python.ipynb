{
  "nbformat": 4,
  "nbformat_minor": 0,
  "metadata": {
    "colab": {
      "provenance": [],
      "authorship_tag": "ABX9TyOOyP9h7kDcePIBFUnIQFMT",
      "include_colab_link": true
    },
    "kernelspec": {
      "name": "python3",
      "display_name": "Python 3"
    },
    "language_info": {
      "name": "python"
    }
  },
  "cells": [
    {
      "cell_type": "markdown",
      "metadata": {
        "id": "view-in-github",
        "colab_type": "text"
      },
      "source": [
        "<a href=\"https://colab.research.google.com/github/rmhorne/20-1-2023-qgis/blob/main/day-2-afternoon/Working_With_Pandas_DataFrames_in_Python.ipynb\" target=\"_parent\"><img src=\"https://colab.research.google.com/assets/colab-badge.svg\" alt=\"Open In Colab\"/></a>"
      ]
    },
    {
      "cell_type": "markdown",
      "source": [
        "# Working With Pandas DataFrames in Python"
      ],
      "metadata": {
        "id": "Iaw_WWexJE_m"
      }
    },
    {
      "cell_type": "markdown",
      "source": [
        "We can automate the process of performing data manipulations in Python. It’s efficient to spend time building the code to perform these tasks because once it’s built, we can use it over and over on different datasets that use a similar format. This makes our methods easily reproducible. We can also easily share our code with colleagues and they can replicate the same analysis.\n",
        "\n"
      ],
      "metadata": {
        "id": "dZBhOrxLJTDE"
      }
    },
    {
      "cell_type": "markdown",
      "source": [
        "## Our Data\n",
        "\n",
        "Our data from today is a .csv donwload from the American Numismatic Society (ANS) for all Greek coins in their collection that were minted in Byzantium.\n",
        "\n",
        "For many (if not most) things that you do in python, this type of file would be on your local drive. However, we are uploading it to GitHub so that we can use it in a google colab environment. We could upload it directly to Colab, but it will be deleted after we execute the runtime.\n",
        "\n",
        "https://raw.githubusercontent.com/rmhorne/2024-5-13-5-17-MJC-BSANA/main/data/byzcoin.csv"
      ],
      "metadata": {
        "id": "Y7iA7vkiAOqX"
      }
    },
    {
      "cell_type": "markdown",
      "source": [
        "What can you say about this file? Columns? What is going on? How would you ensure that this version of the file is always available to you?"
      ],
      "metadata": {
        "id": "6AR-gI5yp64z"
      }
    },
    {
      "cell_type": "markdown",
      "source": [
        "## About Libraries\n",
        "\n",
        "A library in Python contains a set of tools (called functions) that perform tasks on our data. Importing a library is like getting a piece of lab equipment out of a storage locker and setting it up on the bench for use in a project. Once a library is set up, it can be used or called to perform the task(s) it was built to do.\n",
        "\n"
      ],
      "metadata": {
        "id": "w8BcToCgqHdX"
      }
    },
    {
      "cell_type": "markdown",
      "source": [
        "## Pandas in Python\n"
      ],
      "metadata": {
        "id": "sAxNsEYgqOoN"
      }
    },
    {
      "cell_type": "markdown",
      "source": [
        "One of the best options for working with tabular data in Python is to use the Python Data Analysis Library (a.k.a. Pandas). The Pandas library provides data structures, produces high quality plots with matplotlib and integrates nicely with other libraries that use NumPy (which is another Python library) arrays.\n",
        "\n",
        "Python doesn’t load all of the libraries available to it by default. We have to add an import statement to our code in order to use library functions. To import a library, we use the syntax import libraryName. If we want to give the library a nickname to shorten the command, we can add as nickNameHere. An example of importing the pandas library using the common nickname pd is below.\n",
        "\n"
      ],
      "metadata": {
        "id": "1tV0CkcGqRP9"
      }
    },
    {
      "cell_type": "code",
      "source": [
        "import pandas as pd\n"
      ],
      "metadata": {
        "id": "IYOZFffmJGl4"
      },
      "execution_count": null,
      "outputs": []
    },
    {
      "cell_type": "markdown",
      "source": [
        "## Reading CSV Data Using Pandas\n"
      ],
      "metadata": {
        "id": "0uDEfcg2qcaE"
      }
    },
    {
      "cell_type": "markdown",
      "source": [
        "We will begin by locating and reading our coin data which are in CSV format. CSV stands for Comma-Separated Values and is a common way to store formatted data. Other symbols may also be used, so you might see tab-separated, colon-separated or space separated files. It is quite easy to replace one separator with another, to match your application. The first line in the file often has headers to explain what is in each column. CSV (and other separators) make it easy to share data, and can be imported and exported from many applications, including Microsoft Excel. For more details on CSV files, see the Data Organisation in Spreadsheets lesson. We can use Pandas’ read_csv function to pull the file directly into a DataFrame.\n",
        "\n"
      ],
      "metadata": {
        "id": "zDfDzhSGqfjn"
      }
    },
    {
      "cell_type": "code",
      "source": [
        "# Note that pd.read_csv is used because we imported pandas as pd\n",
        "pd.read_csv(\"https://raw.githubusercontent.com/rmhorne/2024-5-13-5-17-MJC-BSANA/main/data/byzcoin.csv\")\n"
      ],
      "metadata": {
        "id": "g3mwpXR3qWu4"
      },
      "execution_count": null,
      "outputs": []
    },
    {
      "cell_type": "markdown",
      "source": [
        "We can see that there were over 300 rows parsed. Each row has 44 coulmns, all of which are not shown by default. The first column is the index of the DataFrame. The index is used to identify the position of the data, but it is not an actual column of the DataFrame. It looks like the read_csv function in Pandas read our file properly. However, we haven’t saved any data to memory so we can work with it. We need to assign the DataFrame to a variable. Remember that a variable is a name for a value, such as x, or data. We can create a new object with a variable name by assigning a value to it using =.\n",
        "\n",
        "Let’s call the imported data byzcoins_df:\n",
        "\n"
      ],
      "metadata": {
        "id": "CGzyv7CUAiDA"
      }
    },
    {
      "cell_type": "code",
      "source": [
        "byzcoins_df = pd.read_csv(\"https://raw.githubusercontent.com/rmhorne/2024-5-13-5-17-MJC-BSANA/main/data/byzcoin.csv\")\n"
      ],
      "metadata": {
        "id": "GpSZRLEAqx8J"
      },
      "execution_count": null,
      "outputs": []
    },
    {
      "cell_type": "markdown",
      "source": [
        "Now, just call the variable and see what happens"
      ],
      "metadata": {
        "id": "I4bhTO5mA9AR"
      }
    },
    {
      "cell_type": "code",
      "source": [
        "byzcoins_df"
      ],
      "metadata": {
        "id": "IAzbdCA_A3T1"
      },
      "execution_count": null,
      "outputs": []
    },
    {
      "cell_type": "markdown",
      "source": [
        "Sometimes the output is just too much to see, or the format is wonky. Let's call the ```head()``` method and see what happens"
      ],
      "metadata": {
        "id": "WktvfoOfBSv7"
      }
    },
    {
      "cell_type": "code",
      "source": [
        "byzcoins_df.head()"
      ],
      "metadata": {
        "id": "J0eXqRgjBBhs"
      },
      "execution_count": null,
      "outputs": []
    },
    {
      "cell_type": "markdown",
      "source": [
        "# Iterate through the data frame"
      ],
      "metadata": {
        "id": "lPh8S7jxRlNB"
      }
    },
    {
      "cell_type": "markdown",
      "source": [
        "Perhaps you want to grab information from the dataframe and do something with it, line by line. This is how you do that:"
      ],
      "metadata": {
        "id": "cJSvGmFcRn8O"
      }
    },
    {
      "cell_type": "code",
      "source": [
        "for index, row in byzcoins_df.iterrows():\n",
        "    print(row['URI'], row['Title'])\n"
      ],
      "metadata": {
        "id": "QIO0UUmSR2_Q"
      },
      "execution_count": null,
      "outputs": []
    },
    {
      "cell_type": "markdown",
      "source": [
        "Let's do something a little more complicated. How about we see the length of time each coin was issued for:"
      ],
      "metadata": {
        "id": "cktzfEZhSPl6"
      }
    },
    {
      "cell_type": "code",
      "source": [
        "for index, row in byzcoins_df.iterrows():\n",
        "    issued_length = row['To Date'] - row['From Date']\n",
        "    print(row['URI'], issued_length)\n"
      ],
      "metadata": {
        "id": "gGfl0sIYTHmL"
      },
      "execution_count": null,
      "outputs": []
    },
    {
      "cell_type": "markdown",
      "source": [
        "Again, we can use the type function to see what kind of thing byzcoins_df is:\n",
        "\n"
      ],
      "metadata": {
        "id": "jF08XtUfBn8Y"
      }
    },
    {
      "cell_type": "code",
      "source": [
        "type(byzcoins_df)"
      ],
      "metadata": {
        "id": "n1DZIbr6Bgu3"
      },
      "execution_count": null,
      "outputs": []
    },
    {
      "cell_type": "code",
      "source": [
        "byzcoins_df.dtypes"
      ],
      "metadata": {
        "id": "ZpEDL-w1BtFm"
      },
      "execution_count": null,
      "outputs": []
    },
    {
      "cell_type": "markdown",
      "source": [
        "What kind of things does byzcoins_df contain? Put another way, what are the columns and the data types in each column? DataFrames have an attribute called dtypes that answers this.\n",
        "\n",
        "You can also call .columns to view just the columns of a dataframe\n",
        "\n"
      ],
      "metadata": {
        "id": "2UFzw4kfB3Mm"
      }
    },
    {
      "cell_type": "code",
      "source": [
        "byzcoins_df.columns"
      ],
      "metadata": {
        "id": "yYydYDhEB84t"
      },
      "execution_count": null,
      "outputs": []
    },
    {
      "cell_type": "markdown",
      "source": [
        "What does this putput look like? Could we call a specific column number? How?"
      ],
      "metadata": {
        "id": "vvdIwjijIYr2"
      }
    },
    {
      "cell_type": "code",
      "source": [
        "byzcoins_df.columns[1]"
      ],
      "metadata": {
        "id": "awWMjwR6Igl1"
      },
      "execution_count": null,
      "outputs": []
    },
    {
      "cell_type": "markdown",
      "source": [
        "## Useful Ways to View DataFrame objects in Python"
      ],
      "metadata": {
        "id": "-RpZWpwRFe7F"
      }
    },
    {
      "cell_type": "markdown",
      "source": [
        "Using our DataFrame byzcoins_df, try out the attributes & methods below to see what they return.\n",
        "\n",
        "```byzcoins_df.columns```\n",
        "\n",
        "```byzcoins_df.shape```\n",
        "\n",
        "Take note of the output of shape - what format does it return the shape of the DataFrame in?\n",
        "\n",
        "```byzcoins_df.head()```\n",
        "\n",
        "Also, what does ```byzcoins_df.head(15)``` do?\n",
        "\n",
        "```byzcoins_df.tail()```\n"
      ],
      "metadata": {
        "id": "vFgy_7pLIxaM"
      }
    },
    {
      "cell_type": "markdown",
      "source": [
        "## Calculating Statistics From Data In A Pandas DataFrame\n"
      ],
      "metadata": {
        "id": "kxMmBVeVJfA9"
      }
    },
    {
      "cell_type": "markdown",
      "source": [
        "We’ve read our data into Python. Next, let’s perform some quick summary statistics to learn more about the data that we’re working with. We might want to know how many animals were collected in each site, or how many of each species were caught. We can perform summary stats quickly using groups. But first we need to figure out what we want to group by.\n",
        "\n",
        "Let’s begin by exploring our data.\n",
        "\n",
        "Let’s get a list of all the Authorities. The ```pd.unique``` function tells us all of the unique values in the ```Authority``` column.\n",
        "\n",
        "\n",
        "\n"
      ],
      "metadata": {
        "id": "TE-7kTN6JhoG"
      }
    },
    {
      "cell_type": "code",
      "source": [
        "pd.unique(byzcoins_df['Authority'])\n"
      ],
      "metadata": {
        "id": "X8dSrEtHIJ5C"
      },
      "execution_count": null,
      "outputs": []
    },
    {
      "cell_type": "markdown",
      "source": [
        "## Groups in Pandas"
      ],
      "metadata": {
        "id": "FP9B-ODCLNUF"
      }
    },
    {
      "cell_type": "markdown",
      "source": [
        "We often want to calculate summary statistics grouped by subsets or attributes within fields of our data. For example, we might want to calculate the average weight of all coins per authority.\n",
        "\n",
        "We can calculate basic statistics for all records in a single column using the syntax below:\n",
        "\n"
      ],
      "metadata": {
        "id": "x7xovSPhLPhs"
      }
    },
    {
      "cell_type": "code",
      "source": [
        "byzcoins_df['Weight (in gr.)'].describe()\n"
      ],
      "metadata": {
        "id": "O22bPYDcLMkv"
      },
      "execution_count": null,
      "outputs": []
    },
    {
      "cell_type": "markdown",
      "source": [
        "We can also extract one specific metric if we wish:\n"
      ],
      "metadata": {
        "id": "wxFs1jB7Lojc"
      }
    },
    {
      "cell_type": "code",
      "source": [
        "byzcoins_df['Weight (in gr.)'].min()\n"
      ],
      "metadata": {
        "id": "U-eDXvL-Lnth"
      },
      "execution_count": null,
      "outputs": []
    },
    {
      "cell_type": "code",
      "source": [
        "byzcoins_df['Weight (in gr.)'].max()\n"
      ],
      "metadata": {
        "id": "P4YdO7laJ6wr"
      },
      "execution_count": null,
      "outputs": []
    },
    {
      "cell_type": "code",
      "source": [
        "byzcoins_df['Weight (in gr.)'].mean()\n"
      ],
      "metadata": {
        "id": "_cz3_MqIL1pD"
      },
      "execution_count": null,
      "outputs": []
    },
    {
      "cell_type": "code",
      "source": [
        "byzcoins_df['Weight (in gr.)'].std()\n"
      ],
      "metadata": {
        "id": "hvJlVtb3L4Fe"
      },
      "execution_count": null,
      "outputs": []
    },
    {
      "cell_type": "markdown",
      "source": [
        "But if we want to summarize by one or more variables, for example authority, we can use Pandas’ .groupby method. Once we’ve created a groupby DataFrame, we can quickly calculate summary statistics by a group of our choice.\n",
        "\n"
      ],
      "metadata": {
        "id": "4TQeo7dhMALQ"
      }
    },
    {
      "cell_type": "code",
      "source": [
        "# Group data by site\n",
        "grouped_data = byzcoins_df.groupby('Authority')\n"
      ],
      "metadata": {
        "id": "sMQm1gtYL5Y0"
      },
      "execution_count": null,
      "outputs": []
    },
    {
      "cell_type": "code",
      "source": [
        "type(grouped_data)"
      ],
      "metadata": {
        "id": "xvmGoKFDNCNX"
      },
      "execution_count": null,
      "outputs": []
    },
    {
      "cell_type": "markdown",
      "source": [
        "The pandas function describe will return descriptive stats including: mean, median, max, min, std and count for a particular column in the data. Pandas’ describe function will only return summary values for columns containing numeric data."
      ],
      "metadata": {
        "id": "-XLZqi0vMT4j"
      }
    },
    {
      "cell_type": "code",
      "source": [
        "# Summary statistics for all numeric columns\n",
        "grouped_data.describe()\n"
      ],
      "metadata": {
        "id": "rjL3PY00MQY1"
      },
      "execution_count": null,
      "outputs": []
    },
    {
      "cell_type": "markdown",
      "source": [
        "Now let's get the summary statistics for a particular column. In our case, we can do weight"
      ],
      "metadata": {
        "id": "3AWmanoHMr67"
      }
    },
    {
      "cell_type": "code",
      "source": [
        "grouped_data['Weight (in gr.)'].describe()\n"
      ],
      "metadata": {
        "id": "KqIT8if6MrOF"
      },
      "execution_count": null,
      "outputs": []
    },
    {
      "cell_type": "markdown",
      "source": [
        "Can you do this with some other columns? Where is it useful? Where is it weird?"
      ],
      "metadata": {
        "id": "EOcfADnROJda"
      }
    },
    {
      "cell_type": "markdown",
      "source": [
        "What happens when you group by two columns using the following syntax and then calculate mean values?\n",
        "\n"
      ],
      "metadata": {
        "id": "9pSAV41TOVK2"
      }
    },
    {
      "cell_type": "code",
      "source": [
        "grouped_data2 = byzcoins_df.groupby(['Authority', 'Denomination'])\n"
      ],
      "metadata": {
        "id": "j0xc4CZXMYJp"
      },
      "execution_count": null,
      "outputs": []
    },
    {
      "cell_type": "code",
      "source": [
        "grouped_data2.describe()"
      ],
      "metadata": {
        "id": "ieBS7oacOqPH"
      },
      "execution_count": null,
      "outputs": []
    },
    {
      "cell_type": "code",
      "source": [
        "grouped_data2['Weight (in gr.)'].describe()\n"
      ],
      "metadata": {
        "id": "yIiKBNgcOs2f"
      },
      "execution_count": null,
      "outputs": []
    },
    {
      "cell_type": "markdown",
      "source": [
        "## Quickly Creating Summary Counts in Pandas\n"
      ],
      "metadata": {
        "id": "FxY_rmwjRnAS"
      }
    },
    {
      "cell_type": "markdown",
      "source": [
        "Let’s next count the number of records for each authortiy. We can do this in a few ways, but we’ll use groupby combined with a count() method.\n",
        "\n"
      ],
      "metadata": {
        "id": "8MYPUIAZRp7Z"
      }
    },
    {
      "cell_type": "code",
      "source": [
        "# Count the number of obverse types by authority\n",
        "ob_counts = byzcoins_df.groupby('Authority')['RecordId'].count()\n",
        "print(ob_counts)\n"
      ],
      "metadata": {
        "id": "-d4sjQFvPAEm"
      },
      "execution_count": null,
      "outputs": []
    },
    {
      "cell_type": "markdown",
      "source": [
        "## Quick & Easy Plotting Data Using Pandas"
      ],
      "metadata": {
        "id": "H9rOZcNJTd39"
      }
    },
    {
      "cell_type": "markdown",
      "source": [
        "We can plot our summary stats using Pandas, too.\n",
        "\n"
      ],
      "metadata": {
        "id": "FHBGahgcTgDS"
      }
    },
    {
      "cell_type": "code",
      "source": [
        "# Make sure figures appear inline in Ipython Notebook\n",
        "%matplotlib inline\n",
        "# Create a quick bar chart\n",
        "ob_counts.plot(kind='bar');\n"
      ],
      "metadata": {
        "id": "P9n61T7GTE7m"
      },
      "execution_count": null,
      "outputs": []
    },
    {
      "cell_type": "code",
      "source": [
        "# Count the number of obverse types by authority\n",
        "ob_counts = byzcoins_df.groupby('Obverse Type')['RecordId'].count()\n",
        "print(ob_counts)\n"
      ],
      "metadata": {
        "id": "Vw-ziefHTl-I"
      },
      "execution_count": null,
      "outputs": []
    },
    {
      "cell_type": "code",
      "source": [
        "# Make sure figures appear inline in Ipython Notebook\n",
        "%matplotlib inline\n",
        "# Create a quick bar chart\n",
        "ob_counts.plot(kind='bar');\n"
      ],
      "metadata": {
        "id": "daxFcunKT8N_"
      },
      "execution_count": null,
      "outputs": []
    },
    {
      "cell_type": "markdown",
      "source": [
        "## Challenge"
      ],
      "metadata": {
        "id": "Oke-_90VV7_E"
      }
    },
    {
      "cell_type": "markdown",
      "source": [
        "Create a plot of mean weight per authority."
      ],
      "metadata": {
        "id": "pdQjBsoMUNxG"
      }
    },
    {
      "cell_type": "code",
      "source": [
        "weight_data = byzcoins_df.groupby('Authority')['Weight (in gr.)'].mean()\n"
      ],
      "metadata": {
        "id": "sAE6ON4jUjp_"
      },
      "execution_count": null,
      "outputs": []
    },
    {
      "cell_type": "code",
      "source": [
        "print(weight_data)\n"
      ],
      "metadata": {
        "id": "9n2BmjmzU7N2"
      },
      "execution_count": null,
      "outputs": []
    },
    {
      "cell_type": "code",
      "source": [
        "\n",
        "# Create a quick bar chart\n",
        "weight_data.plot(kind='bar');\n"
      ],
      "metadata": {
        "id": "EcMlwwNMU8LK"
      },
      "execution_count": null,
      "outputs": []
    },
    {
      "cell_type": "code",
      "source": [
        "weight_data.plot(kind='bar')\n",
        "plt.savefig('weight_data.png')\n"
      ],
      "metadata": {
        "id": "EMqCaIw9Wkld"
      },
      "execution_count": null,
      "outputs": []
    },
    {
      "cell_type": "markdown",
      "source": [
        "## Matplotlib package"
      ],
      "metadata": {
        "id": "PN0rC2oHZ8Eg"
      }
    },
    {
      "cell_type": "markdown",
      "source": [
        "Matplotlib is a Python package that is widely used throughout the scientific Python community to create high-quality and publication-ready graphics. It supports a wide range of raster and vector graphics formats including PNG, PostScript, EPS, PDF and SVG.\n",
        "\n",
        "Moreover, matplotlib is the actual engine behind the plotting capabilities of both Pandas and plotnine packages. For example, when we call the .plot method on Pandas data objects, we actually use the matplotlib package.\n",
        "\n",
        "First, import the pyplot toolbox:\n",
        "\n"
      ],
      "metadata": {
        "id": "2jtSkErOZ91F"
      }
    },
    {
      "cell_type": "code",
      "source": [
        "import matplotlib.pyplot as plt\n"
      ],
      "metadata": {
        "id": "bWQJIhvTVY0h"
      },
      "execution_count": null,
      "outputs": []
    },
    {
      "cell_type": "code",
      "source": [
        "my_plot = byzcoins_df.plot(\"Diameter (in mm)\", \"Weight (in gr.)\", kind=\"scatter\")\n"
      ],
      "metadata": {
        "id": "T5cYc_6vc7ZJ"
      },
      "execution_count": null,
      "outputs": []
    },
    {
      "cell_type": "markdown",
      "source": [
        "The returned object is a matplotlib object (check it yourself with type(my_plot)), to which we may make further adjustments and refinements using other matplotlib methods.\n",
        "\n"
      ],
      "metadata": {
        "id": "icE3VeRvdgl7"
      }
    },
    {
      "cell_type": "markdown",
      "source": [
        "We will cover a few basic commands for creating and formatting plots with matplotlib in this lesson. A great resource for help creating and styling your figures is the matplotlib gallery, which includes plots in many different styles and the source codes that create them.\n",
        "\n"
      ],
      "metadata": {
        "id": "qB9Tc2y2dqpq"
      }
    },
    {
      "cell_type": "markdown",
      "source": [
        "Although this approach requires a little bit more code to create the same plot, the advantage is that it gives us full control over the plot and we can add new items such as labels, grid lines, title, and other visual elements. For example, we can add additional axes to the figure and customize their labels:\n",
        "\n"
      ],
      "metadata": {
        "id": "8-_M8V8sf_Ff"
      }
    },
    {
      "cell_type": "code",
      "source": [
        "# prepare a matplotlib figure\n",
        "fig, ax1 = plt.subplots()\n",
        "ax1.hist(byzcoins_df['Weight (in gr.)'], 30)\n",
        "# add labels\n",
        "ax1.set_ylabel('value')\n",
        "ax1.set_xlabel('weight')\n"
      ],
      "metadata": {
        "id": "JgjyfejBdYji"
      },
      "execution_count": null,
      "outputs": []
    },
    {
      "cell_type": "code",
      "source": [
        "# prepare a matplotlib figure\n",
        "fig, ax1 = plt.subplots()\n",
        "ax1.hist(byzcoins_df['Weight (in gr.)'], 30)\n",
        "# add labels\n",
        "ax1.set_ylabel('value')\n",
        "ax1.set_xlabel('weight')\n",
        "\n",
        "\n",
        "ax2 = fig.add_axes([0.57, 0.55, 0.3, 0.3])  # number coordinates correspond to left, bottom, width, height, respectively\n",
        "ax2.hist(byzcoins_df['Diameter (in mm)'], 30)\n"
      ],
      "metadata": {
        "id": "7omZp0SGgI7O"
      },
      "execution_count": null,
      "outputs": []
    },
    {
      "cell_type": "code",
      "source": [
        "# prepare a matplotlib figure\n",
        "fig, ax1 = plt.subplots()\n",
        "ax1.hist(byzcoins_df['Weight (in gr.)'], 30)\n",
        "# add labels\n",
        "ax1.set_ylabel('value')\n",
        "ax1.set_xlabel('weight')\n",
        "\n",
        "\n",
        "ax2 = fig.add_axes([0.57, 0.55, 0.3, 0.3])  # number coordinates correspond to left, bottom, width, height, respectively\n",
        "ax2.hist(byzcoins_df['Diameter (in mm)'], 30)\n",
        "\n",
        "plt.savefig('weight_data_window.png')\n"
      ],
      "metadata": {
        "id": "3odzvn4nXJFD"
      },
      "execution_count": null,
      "outputs": []
    },
    {
      "cell_type": "code",
      "source": [
        "# prepare a matplotlib figure\n",
        "fig, ax1 = plt.subplots()\n",
        "ax1.hist(byzcoins_df['Weight (in gr.)'], 30)\n",
        "# add labels\n",
        "ax1.set_ylabel('value')\n",
        "ax1.set_xlabel('weight')\n",
        "\n",
        "\n",
        "ax2 = fig.add_axes([0.57, 0.55, 0.3, 0.3])  # number coordinates correspond to left, bottom, width, height, respectively\n",
        "ax2.hist(byzcoins_df['Diameter (in mm)'], 30)\n",
        "# add labels\n",
        "ax2.set_ylabel('value')\n",
        "ax2.set_xlabel('diameter')\n"
      ],
      "metadata": {
        "id": "5tGZ0FpZh23p"
      },
      "execution_count": null,
      "outputs": []
    },
    {
      "cell_type": "code",
      "source": [
        "# prepare a matplotlib figure\n",
        "fig, ax1 = plt.subplots()\n",
        "ax1.plot(byzcoins_df['Weight (in gr.)'])\n",
        "# add labels\n",
        "ax1.set_ylabel('value')\n",
        "ax1.set_xlabel('weight')"
      ],
      "metadata": {
        "id": "YkuCxtsEijCM"
      },
      "execution_count": null,
      "outputs": []
    },
    {
      "cell_type": "code",
      "source": [
        "fig, ax = plt.subplots()\n",
        "\n",
        "byzcoins_df['Weight (in gr.)'].plot(kind='line',color='black')\n",
        "byzcoins_df['Diameter (in mm)'].plot(kind='bar')\n",
        "\n",
        "plt.show()\n"
      ],
      "metadata": {
        "id": "bs178IZgjGeK"
      },
      "execution_count": null,
      "outputs": []
    },
    {
      "cell_type": "code",
      "source": [
        "fig, ax = plt.subplots()\n",
        "\n",
        "byzcoins_df['Weight (in gr.)'].plot(kind='line',color='black')\n",
        "byzcoins_df['Diameter (in mm)'].plot(kind='bar')\n",
        "fig = plt.gcf()\n",
        "fig.set_size_inches(12, 12)\n"
      ],
      "metadata": {
        "id": "5ET1_GKWkIF9"
      },
      "execution_count": null,
      "outputs": []
    }
  ]
}